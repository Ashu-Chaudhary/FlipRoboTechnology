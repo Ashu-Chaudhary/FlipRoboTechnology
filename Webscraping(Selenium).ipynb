{
 "cells": [
  {
   "cell_type": "markdown",
   "id": "ae8b5b50",
   "metadata": {},
   "source": [
    "#                    WEB SCRAPING ASSIGNMENT-2"
   ]
  },
  {
   "cell_type": "markdown",
   "id": "1c806cf0",
   "metadata": {},
   "source": [
    "Q1: Write a python program to scrape data for “Data Analyst” Job position in “Bangalore” location. You have to scrape the job-title, job-location, company_name, experience_required. You have to scrape first 10 jobs data."
   ]
  },
  {
   "cell_type": "code",
   "execution_count": 1,
   "id": "9fa4252f",
   "metadata": {},
   "outputs": [
    {
     "name": "stdout",
     "output_type": "stream",
     "text": [
      "Collecting selenium\n",
      "  Downloading selenium-3.141.0-py2.py3-none-any.whl (904 kB)\n",
      "Requirement already satisfied: urllib3 in c:\\users\\hp\\anaconda3\\lib\\site-packages (from selenium) (1.26.4)\n",
      "Installing collected packages: selenium\n",
      "Successfully installed selenium-3.141.0\n"
     ]
    }
   ],
   "source": [
    "#first install the selenium library\n",
    "!pip install selenium"
   ]
  },
  {
   "cell_type": "code",
   "execution_count": 2,
   "id": "37d1af4c",
   "metadata": {},
   "outputs": [],
   "source": [
    "#install all required library\n",
    "import pandas as pd\n",
    "import selenium\n",
    "from selenium import webdriver"
   ]
  },
  {
   "cell_type": "code",
   "execution_count": 4,
   "id": "37ad63a9",
   "metadata": {},
   "outputs": [],
   "source": [
    "#first connect to webdriver\n",
    "driver=webdriver.Chrome(r\"D:\\Ashu Software work\\Internship\\chromedriver.exe\")\n",
    "#second method after upload this file in same working directory\n",
    "#driver=webdriver.Chrome(\"chromedriver.exe\")"
   ]
  },
  {
   "cell_type": "code",
   "execution_count": 8,
   "id": "19ec057b",
   "metadata": {},
   "outputs": [],
   "source": [
    "url=\"https://www.naukri.com/\"\n",
    "driver.get(url)    "
   ]
  },
  {
   "cell_type": "code",
   "execution_count": 9,
   "id": "9907c90c",
   "metadata": {},
   "outputs": [
    {
     "data": {
      "text/plain": [
       "<selenium.webdriver.remote.webelement.WebElement (session=\"8fbf6b2ef4f3bf22614a51902d78f995\", element=\"9eb932fa-0026-4702-b5b4-7a59c5ca6552\")>"
      ]
     },
     "execution_count": 9,
     "metadata": {},
     "output_type": "execute_result"
    }
   ],
   "source": [
    "search_job=driver.find_element_by_id(\"qsb-keyword-sugg\")\n",
    "search_job"
   ]
  },
  {
   "cell_type": "code",
   "execution_count": 10,
   "id": "6098f448",
   "metadata": {},
   "outputs": [],
   "source": [
    "search_job.send_keys(\"Data Analyst\")"
   ]
  },
  {
   "cell_type": "code",
   "execution_count": 12,
   "id": "745ba37c",
   "metadata": {},
   "outputs": [],
   "source": [
    "search_loc=driver.find_element_by_id(\"qsb-location-sugg\")\n",
    "search_loc.send_keys(\"Bangalore\")"
   ]
  },
  {
   "cell_type": "code",
   "execution_count": 16,
   "id": "6f428021",
   "metadata": {},
   "outputs": [
    {
     "data": {
      "text/plain": [
       "<selenium.webdriver.remote.webelement.WebElement (session=\"8fbf6b2ef4f3bf22614a51902d78f995\", element=\"4194b07a-8eb5-403e-b0fd-286e2c030c14\")>"
      ]
     },
     "execution_count": 16,
     "metadata": {},
     "output_type": "execute_result"
    }
   ],
   "source": [
    "search_btn=driver.find_element_by_xpath(\"//button[@class='btn']\")\n",
    "search_btn\n"
   ]
  },
  {
   "cell_type": "code",
   "execution_count": 17,
   "id": "1ff369a2",
   "metadata": {},
   "outputs": [],
   "source": [
    "search_btn.click()"
   ]
  },
  {
   "cell_type": "code",
   "execution_count": 24,
   "id": "769e4d68",
   "metadata": {},
   "outputs": [
    {
     "data": {
      "text/plain": [
       "[<selenium.webdriver.remote.webelement.WebElement (session=\"8fbf6b2ef4f3bf22614a51902d78f995\", element=\"f05be118-6bd5-44dd-abef-996608b9f8b2\")>,\n",
       " <selenium.webdriver.remote.webelement.WebElement (session=\"8fbf6b2ef4f3bf22614a51902d78f995\", element=\"d8bfed3e-3c18-4a69-abbc-36124d9638a8\")>,\n",
       " <selenium.webdriver.remote.webelement.WebElement (session=\"8fbf6b2ef4f3bf22614a51902d78f995\", element=\"bec99ea2-bd36-4947-bfe3-072d556b0ab0\")>,\n",
       " <selenium.webdriver.remote.webelement.WebElement (session=\"8fbf6b2ef4f3bf22614a51902d78f995\", element=\"a4df616d-d705-43f2-87aa-99afd96f11c7\")>,\n",
       " <selenium.webdriver.remote.webelement.WebElement (session=\"8fbf6b2ef4f3bf22614a51902d78f995\", element=\"274626fc-9963-4050-8381-3c152a08151b\")>,\n",
       " <selenium.webdriver.remote.webelement.WebElement (session=\"8fbf6b2ef4f3bf22614a51902d78f995\", element=\"808648a1-93ec-42c2-bb54-b77cf0032dfc\")>,\n",
       " <selenium.webdriver.remote.webelement.WebElement (session=\"8fbf6b2ef4f3bf22614a51902d78f995\", element=\"a9667c5a-ff6b-4b8f-bb74-b3f4c5816a48\")>,\n",
       " <selenium.webdriver.remote.webelement.WebElement (session=\"8fbf6b2ef4f3bf22614a51902d78f995\", element=\"299b3163-d019-4eec-ba54-eedb05e6fd4d\")>,\n",
       " <selenium.webdriver.remote.webelement.WebElement (session=\"8fbf6b2ef4f3bf22614a51902d78f995\", element=\"6de97c81-bd12-4913-9d45-6b16674d515a\")>,\n",
       " <selenium.webdriver.remote.webelement.WebElement (session=\"8fbf6b2ef4f3bf22614a51902d78f995\", element=\"765cf731-414d-4767-9ab5-0475ac34b10f\")>,\n",
       " <selenium.webdriver.remote.webelement.WebElement (session=\"8fbf6b2ef4f3bf22614a51902d78f995\", element=\"cb2facc2-db6b-4a79-9ed1-68e03a946427\")>,\n",
       " <selenium.webdriver.remote.webelement.WebElement (session=\"8fbf6b2ef4f3bf22614a51902d78f995\", element=\"0d659ca3-c977-42c9-9718-9fb33a6ecf0c\")>,\n",
       " <selenium.webdriver.remote.webelement.WebElement (session=\"8fbf6b2ef4f3bf22614a51902d78f995\", element=\"c1ec8a55-18fc-4493-8c62-c93967d4215a\")>,\n",
       " <selenium.webdriver.remote.webelement.WebElement (session=\"8fbf6b2ef4f3bf22614a51902d78f995\", element=\"8ed38104-6c90-44ba-bd23-4d33c90bf3ff\")>,\n",
       " <selenium.webdriver.remote.webelement.WebElement (session=\"8fbf6b2ef4f3bf22614a51902d78f995\", element=\"41039bf1-5f51-4993-ab7c-8dfcd51c41e6\")>,\n",
       " <selenium.webdriver.remote.webelement.WebElement (session=\"8fbf6b2ef4f3bf22614a51902d78f995\", element=\"ab75bc9a-9f9e-4013-b42e-2f75cc422d9c\")>,\n",
       " <selenium.webdriver.remote.webelement.WebElement (session=\"8fbf6b2ef4f3bf22614a51902d78f995\", element=\"d89e76e4-c4d9-49f1-abbf-e40205520fe3\")>,\n",
       " <selenium.webdriver.remote.webelement.WebElement (session=\"8fbf6b2ef4f3bf22614a51902d78f995\", element=\"8a08aa7c-12b8-4538-af3f-d299f7af8f5b\")>,\n",
       " <selenium.webdriver.remote.webelement.WebElement (session=\"8fbf6b2ef4f3bf22614a51902d78f995\", element=\"fb515913-d13b-43a8-80e3-0469a3a24ca4\")>,\n",
       " <selenium.webdriver.remote.webelement.WebElement (session=\"8fbf6b2ef4f3bf22614a51902d78f995\", element=\"bc208b2d-1a5b-425e-9501-b1985e9c837f\")>]"
      ]
     },
     "execution_count": 24,
     "metadata": {},
     "output_type": "execute_result"
    }
   ],
   "source": [
    "#extracting the tags from job tittle\n",
    "tittle_tags=driver.find_elements_by_xpath(\"//a[@class='title fw500 ellipsis']\")\n",
    "tittle_tags"
   ]
  },
  {
   "cell_type": "code",
   "execution_count": 26,
   "id": "c25652df",
   "metadata": {},
   "outputs": [
    {
     "data": {
      "text/plain": [
       "['Business Data Analyst',\n",
       " 'Business Data Analyst',\n",
       " 'Data Analyst',\n",
       " 'Data Analyst/Business Analyst-Gurgaon/Bangalore/Mumbai (only Females)',\n",
       " 'Data Analyst',\n",
       " 'Senior Specialist - Data Analyst',\n",
       " 'Business/Data Analyst - SSE/LA',\n",
       " 'Business Data Analyst II',\n",
       " 'Senior Data Analyst - SQL/Tableau/Redshift',\n",
       " 'Data Analyst']"
      ]
     },
     "execution_count": 26,
     "metadata": {},
     "output_type": "execute_result"
    }
   ],
   "source": [
    "#now the job tittle text is inside  extracted above\n",
    "#so we will run a loop iterate over a loop and extracted the text inside them\n",
    "job_tittles=[]\n",
    "for i in tittle_tags[:10]:\n",
    "    job_tittles.append(i.text)\n",
    "job_tittles    \n",
    "    "
   ]
  },
  {
   "cell_type": "code",
   "execution_count": 27,
   "id": "e433f093",
   "metadata": {},
   "outputs": [
    {
     "data": {
      "text/plain": [
       "[<selenium.webdriver.remote.webelement.WebElement (session=\"8fbf6b2ef4f3bf22614a51902d78f995\", element=\"eb1b260c-a8a6-4f2d-992d-92ce9373bb55\")>,\n",
       " <selenium.webdriver.remote.webelement.WebElement (session=\"8fbf6b2ef4f3bf22614a51902d78f995\", element=\"7a60cba1-4b23-4d0b-8fe5-d7a1cbe963f1\")>,\n",
       " <selenium.webdriver.remote.webelement.WebElement (session=\"8fbf6b2ef4f3bf22614a51902d78f995\", element=\"79852b61-8df7-40e9-904d-2482dfb3dd2f\")>,\n",
       " <selenium.webdriver.remote.webelement.WebElement (session=\"8fbf6b2ef4f3bf22614a51902d78f995\", element=\"48fcee5b-341a-4f85-ba4b-a41899b8d6a0\")>,\n",
       " <selenium.webdriver.remote.webelement.WebElement (session=\"8fbf6b2ef4f3bf22614a51902d78f995\", element=\"3443495c-00e1-405c-93d5-7e48c2a45ce8\")>,\n",
       " <selenium.webdriver.remote.webelement.WebElement (session=\"8fbf6b2ef4f3bf22614a51902d78f995\", element=\"f0e685aa-735f-4839-ad3e-ee7acad30139\")>,\n",
       " <selenium.webdriver.remote.webelement.WebElement (session=\"8fbf6b2ef4f3bf22614a51902d78f995\", element=\"23fd30d9-1d9a-4f9d-8fa6-abb8374fd82a\")>,\n",
       " <selenium.webdriver.remote.webelement.WebElement (session=\"8fbf6b2ef4f3bf22614a51902d78f995\", element=\"459f22a4-4c73-41f0-b845-809b9829ac28\")>,\n",
       " <selenium.webdriver.remote.webelement.WebElement (session=\"8fbf6b2ef4f3bf22614a51902d78f995\", element=\"9c6953b4-a093-4648-9b0e-7fe84321f6b2\")>,\n",
       " <selenium.webdriver.remote.webelement.WebElement (session=\"8fbf6b2ef4f3bf22614a51902d78f995\", element=\"ecbad5f0-1999-402c-937c-4b1d637deb0f\")>,\n",
       " <selenium.webdriver.remote.webelement.WebElement (session=\"8fbf6b2ef4f3bf22614a51902d78f995\", element=\"123220cf-ca91-49af-b1b7-51c7f8f59361\")>,\n",
       " <selenium.webdriver.remote.webelement.WebElement (session=\"8fbf6b2ef4f3bf22614a51902d78f995\", element=\"903a7265-042d-447b-9a1b-ea2befd385b4\")>,\n",
       " <selenium.webdriver.remote.webelement.WebElement (session=\"8fbf6b2ef4f3bf22614a51902d78f995\", element=\"cae8c7fa-7aec-4925-9ab6-528084f8954f\")>,\n",
       " <selenium.webdriver.remote.webelement.WebElement (session=\"8fbf6b2ef4f3bf22614a51902d78f995\", element=\"ce216bc9-4c37-479e-9799-254173a9afdb\")>,\n",
       " <selenium.webdriver.remote.webelement.WebElement (session=\"8fbf6b2ef4f3bf22614a51902d78f995\", element=\"d9e97558-d545-435c-9ab4-75bee6b68348\")>,\n",
       " <selenium.webdriver.remote.webelement.WebElement (session=\"8fbf6b2ef4f3bf22614a51902d78f995\", element=\"9595b8f9-4716-438b-b33a-444112e65ab0\")>,\n",
       " <selenium.webdriver.remote.webelement.WebElement (session=\"8fbf6b2ef4f3bf22614a51902d78f995\", element=\"45cdb7b0-4c5d-43f6-886d-aaab7c137cde\")>,\n",
       " <selenium.webdriver.remote.webelement.WebElement (session=\"8fbf6b2ef4f3bf22614a51902d78f995\", element=\"7d70de9f-abc0-4074-a870-a076d5ace6f8\")>,\n",
       " <selenium.webdriver.remote.webelement.WebElement (session=\"8fbf6b2ef4f3bf22614a51902d78f995\", element=\"93b147da-3663-4859-842c-6ae5e29b11e8\")>,\n",
       " <selenium.webdriver.remote.webelement.WebElement (session=\"8fbf6b2ef4f3bf22614a51902d78f995\", element=\"b06f8734-24c1-4e11-b6b7-6b66dffee162\")>]"
      ]
     },
     "execution_count": 27,
     "metadata": {},
     "output_type": "execute_result"
    }
   ],
   "source": [
    "company_tags=driver.find_elements_by_xpath(\"//a[@class='subTitle ellipsis fleft']\")\n",
    "company_tags"
   ]
  },
  {
   "cell_type": "code",
   "execution_count": 28,
   "id": "1c0344b9",
   "metadata": {},
   "outputs": [
    {
     "data": {
      "text/plain": [
       "['Trigent Software',\n",
       " 'Trigent Software',\n",
       " 'Allegis Services India Pvt. Ltd.',\n",
       " 'India Medtronic Pvt. Ltd,.',\n",
       " 'Enzen Global Solutions Pvt. Ltd',\n",
       " 'Philips India Limited',\n",
       " 'CGI Information Systems and Management Consultants',\n",
       " 'Infobahn Softworld Inc.',\n",
       " 'Pronto Consulting Services',\n",
       " 'WEIWO Communication Pvt. Ltd.']"
      ]
     },
     "execution_count": 28,
     "metadata": {},
     "output_type": "execute_result"
    }
   ],
   "source": [
    "company_names=[]\n",
    "for i in company_tags[:10]:\n",
    "    company_names.append(i.text)\n",
    "company_names "
   ]
  },
  {
   "cell_type": "code",
   "execution_count": 29,
   "id": "f035b419",
   "metadata": {},
   "outputs": [
    {
     "data": {
      "text/plain": [
       "[<selenium.webdriver.remote.webelement.WebElement (session=\"8fbf6b2ef4f3bf22614a51902d78f995\", element=\"eea8fab2-1914-49cf-9289-d88ff5b9b954\")>,\n",
       " <selenium.webdriver.remote.webelement.WebElement (session=\"8fbf6b2ef4f3bf22614a51902d78f995\", element=\"44ee287d-08cf-4b54-87dc-4e6c3dce2609\")>,\n",
       " <selenium.webdriver.remote.webelement.WebElement (session=\"8fbf6b2ef4f3bf22614a51902d78f995\", element=\"1541b0c0-991b-497c-aae8-36c14b234efa\")>,\n",
       " <selenium.webdriver.remote.webelement.WebElement (session=\"8fbf6b2ef4f3bf22614a51902d78f995\", element=\"d483459b-9360-405b-af95-9991d2fcb9d8\")>,\n",
       " <selenium.webdriver.remote.webelement.WebElement (session=\"8fbf6b2ef4f3bf22614a51902d78f995\", element=\"56cd67ac-8ff4-492d-aa75-4489b1c89d57\")>,\n",
       " <selenium.webdriver.remote.webelement.WebElement (session=\"8fbf6b2ef4f3bf22614a51902d78f995\", element=\"30f6591b-8f5b-4efa-a05b-4f63fc009511\")>,\n",
       " <selenium.webdriver.remote.webelement.WebElement (session=\"8fbf6b2ef4f3bf22614a51902d78f995\", element=\"45ab2360-12e0-47c5-8a11-4d0f2ac59398\")>,\n",
       " <selenium.webdriver.remote.webelement.WebElement (session=\"8fbf6b2ef4f3bf22614a51902d78f995\", element=\"b29491ea-c66c-45bb-a5e3-59ab842cf7a4\")>,\n",
       " <selenium.webdriver.remote.webelement.WebElement (session=\"8fbf6b2ef4f3bf22614a51902d78f995\", element=\"f85df2a0-40d9-4389-8292-57eafb82152a\")>,\n",
       " <selenium.webdriver.remote.webelement.WebElement (session=\"8fbf6b2ef4f3bf22614a51902d78f995\", element=\"d3b71abf-3c22-4031-936d-7eb1bcc7d43a\")>,\n",
       " <selenium.webdriver.remote.webelement.WebElement (session=\"8fbf6b2ef4f3bf22614a51902d78f995\", element=\"a830e0cc-1cbc-47e5-bb0f-177b6daaef0d\")>,\n",
       " <selenium.webdriver.remote.webelement.WebElement (session=\"8fbf6b2ef4f3bf22614a51902d78f995\", element=\"51a9126c-8810-45bf-ab9a-81bc39159533\")>,\n",
       " <selenium.webdriver.remote.webelement.WebElement (session=\"8fbf6b2ef4f3bf22614a51902d78f995\", element=\"eea58fd3-fe49-4ca0-b99a-9fb2fbd8a805\")>,\n",
       " <selenium.webdriver.remote.webelement.WebElement (session=\"8fbf6b2ef4f3bf22614a51902d78f995\", element=\"448aab2a-3f9d-48f7-b51d-0aa26e3f9c7e\")>,\n",
       " <selenium.webdriver.remote.webelement.WebElement (session=\"8fbf6b2ef4f3bf22614a51902d78f995\", element=\"b9e4a1a6-28c5-403d-91bf-0043d5e178a7\")>,\n",
       " <selenium.webdriver.remote.webelement.WebElement (session=\"8fbf6b2ef4f3bf22614a51902d78f995\", element=\"0808bc59-0fae-45e4-94a5-c612694dd767\")>,\n",
       " <selenium.webdriver.remote.webelement.WebElement (session=\"8fbf6b2ef4f3bf22614a51902d78f995\", element=\"05b00c60-98e6-4d01-8788-5753f6fd4d16\")>,\n",
       " <selenium.webdriver.remote.webelement.WebElement (session=\"8fbf6b2ef4f3bf22614a51902d78f995\", element=\"647a73b8-809e-4b77-9e8a-1f0c7068438b\")>,\n",
       " <selenium.webdriver.remote.webelement.WebElement (session=\"8fbf6b2ef4f3bf22614a51902d78f995\", element=\"9eaa8784-8c4b-40b1-9374-06ffdd840a33\")>,\n",
       " <selenium.webdriver.remote.webelement.WebElement (session=\"8fbf6b2ef4f3bf22614a51902d78f995\", element=\"1b3d1cf0-8989-4bb5-900f-7e45a3faf72a\")>,\n",
       " <selenium.webdriver.remote.webelement.WebElement (session=\"8fbf6b2ef4f3bf22614a51902d78f995\", element=\"6db2b517-8c5e-4d21-bfc7-1aa8558503f6\")>,\n",
       " <selenium.webdriver.remote.webelement.WebElement (session=\"8fbf6b2ef4f3bf22614a51902d78f995\", element=\"76f4340a-eeba-434b-b1ba-bbfeb2b4ce52\")>]"
      ]
     },
     "execution_count": 29,
     "metadata": {},
     "output_type": "execute_result"
    }
   ],
   "source": [
    "loc_tags=driver.find_elements_by_xpath(\"//li[@class='fleft grey-text br2 placeHolderLi location']//span\")\n",
    "loc_tags"
   ]
  },
  {
   "cell_type": "code",
   "execution_count": 30,
   "id": "8bce4260",
   "metadata": {},
   "outputs": [
    {
     "data": {
      "text/plain": [
       "['Bangalore/Bengaluru',\n",
       " 'Bangalore/Bengaluru',\n",
       " 'Bangalore/Bengaluru',\n",
       " 'Gurgaon/Gurugram, Bangalore/Bengaluru, Mumbai (All Areas)',\n",
       " 'Bangalore/Bengaluru',\n",
       " 'Bangalore/Bengaluru',\n",
       " 'Bangalore/Bengaluru',\n",
       " 'Bangalore/Bengaluru',\n",
       " 'Noida, Mumbai, Indore, Hyderabad/Secunderabad, Pune, Chennai, Bangalore/Bengaluru',\n",
       " '(WFH during Covid)']"
      ]
     },
     "execution_count": 30,
     "metadata": {},
     "output_type": "execute_result"
    }
   ],
   "source": [
    "job_location=[]\n",
    "for i in loc_tags[:10]:\n",
    "    job_location.append(i.text)\n",
    "job_location "
   ]
  },
  {
   "cell_type": "code",
   "execution_count": 31,
   "id": "4267e139",
   "metadata": {},
   "outputs": [
    {
     "data": {
      "text/plain": [
       "[<selenium.webdriver.remote.webelement.WebElement (session=\"8fbf6b2ef4f3bf22614a51902d78f995\", element=\"7699ffac-ca73-4b8b-89ce-5b784dd1d243\")>,\n",
       " <selenium.webdriver.remote.webelement.WebElement (session=\"8fbf6b2ef4f3bf22614a51902d78f995\", element=\"5ed21de3-95b9-4110-8c19-70542c60a636\")>,\n",
       " <selenium.webdriver.remote.webelement.WebElement (session=\"8fbf6b2ef4f3bf22614a51902d78f995\", element=\"fdcf203a-e841-496f-ad69-48ce5d5a1f81\")>,\n",
       " <selenium.webdriver.remote.webelement.WebElement (session=\"8fbf6b2ef4f3bf22614a51902d78f995\", element=\"b7ce1d30-6c7d-4658-8f0e-aa460c807fa5\")>,\n",
       " <selenium.webdriver.remote.webelement.WebElement (session=\"8fbf6b2ef4f3bf22614a51902d78f995\", element=\"5cfc9a98-1780-4f16-875a-8b27bf07b864\")>,\n",
       " <selenium.webdriver.remote.webelement.WebElement (session=\"8fbf6b2ef4f3bf22614a51902d78f995\", element=\"66f2bf3a-7b0f-4cff-a593-295360845641\")>,\n",
       " <selenium.webdriver.remote.webelement.WebElement (session=\"8fbf6b2ef4f3bf22614a51902d78f995\", element=\"6112c656-5814-45c6-a41d-8e3a8bb17583\")>,\n",
       " <selenium.webdriver.remote.webelement.WebElement (session=\"8fbf6b2ef4f3bf22614a51902d78f995\", element=\"935481de-9519-44de-992e-fb72697533cd\")>,\n",
       " <selenium.webdriver.remote.webelement.WebElement (session=\"8fbf6b2ef4f3bf22614a51902d78f995\", element=\"35ae8c16-368d-46b7-86a0-0f19cc21a733\")>,\n",
       " <selenium.webdriver.remote.webelement.WebElement (session=\"8fbf6b2ef4f3bf22614a51902d78f995\", element=\"2c0b8672-0b7d-478a-8f17-3c7ef871f194\")>,\n",
       " <selenium.webdriver.remote.webelement.WebElement (session=\"8fbf6b2ef4f3bf22614a51902d78f995\", element=\"ae341737-56fd-40a0-8b18-1d434ce2248b\")>,\n",
       " <selenium.webdriver.remote.webelement.WebElement (session=\"8fbf6b2ef4f3bf22614a51902d78f995\", element=\"29c42969-7e12-4ed1-b956-8cd362b16144\")>,\n",
       " <selenium.webdriver.remote.webelement.WebElement (session=\"8fbf6b2ef4f3bf22614a51902d78f995\", element=\"d2e0c6ea-ed4c-4843-a54a-3566cb640150\")>,\n",
       " <selenium.webdriver.remote.webelement.WebElement (session=\"8fbf6b2ef4f3bf22614a51902d78f995\", element=\"b17ebf89-6e34-4c6a-b31b-f4151f28784f\")>,\n",
       " <selenium.webdriver.remote.webelement.WebElement (session=\"8fbf6b2ef4f3bf22614a51902d78f995\", element=\"9395b551-c098-4459-94a5-1b53afd6c359\")>,\n",
       " <selenium.webdriver.remote.webelement.WebElement (session=\"8fbf6b2ef4f3bf22614a51902d78f995\", element=\"01424800-ac12-4885-b7b5-f444f90df139\")>,\n",
       " <selenium.webdriver.remote.webelement.WebElement (session=\"8fbf6b2ef4f3bf22614a51902d78f995\", element=\"2a63cd05-7b2c-40f3-b5e6-8b55b9392ed7\")>,\n",
       " <selenium.webdriver.remote.webelement.WebElement (session=\"8fbf6b2ef4f3bf22614a51902d78f995\", element=\"35f27a97-fc4d-4ac4-9932-1a5667fd24fd\")>,\n",
       " <selenium.webdriver.remote.webelement.WebElement (session=\"8fbf6b2ef4f3bf22614a51902d78f995\", element=\"95723835-cde7-4df7-9f6b-1941ea709513\")>,\n",
       " <selenium.webdriver.remote.webelement.WebElement (session=\"8fbf6b2ef4f3bf22614a51902d78f995\", element=\"dc0e1297-18d3-45ca-944c-a59d71fe0db6\")>]"
      ]
     },
     "execution_count": 31,
     "metadata": {},
     "output_type": "execute_result"
    }
   ],
   "source": [
    "exp_tags=driver.find_elements_by_xpath(\"//li[@class='fleft grey-text br2 placeHolderLi experience']//span\")\n",
    "exp_tags"
   ]
  },
  {
   "cell_type": "code",
   "execution_count": 32,
   "id": "c0f92bce",
   "metadata": {},
   "outputs": [
    {
     "data": {
      "text/plain": [
       "['3-5 Yrs',\n",
       " '3-5 Yrs',\n",
       " '3-5 Yrs',\n",
       " '1-4 Yrs',\n",
       " '6-8 Yrs',\n",
       " '4-8 Yrs',\n",
       " '2-5 Yrs',\n",
       " '5-8 Yrs',\n",
       " '6-10 Yrs',\n",
       " '4-8 Yrs']"
      ]
     },
     "execution_count": 32,
     "metadata": {},
     "output_type": "execute_result"
    }
   ],
   "source": [
    "exp_required=[]\n",
    "for i in exp_tags[:10]:\n",
    "    exp_required.append(i.text)\n",
    "exp_required "
   ]
  },
  {
   "cell_type": "code",
   "execution_count": 34,
   "id": "e75fc5d9",
   "metadata": {},
   "outputs": [
    {
     "name": "stdout",
     "output_type": "stream",
     "text": [
      "10 10 10 10\n"
     ]
    }
   ],
   "source": [
    "#check length of the list\n",
    "print(len(job_tittles),len(company_names),len(job_location),len(exp_required))"
   ]
  },
  {
   "cell_type": "code",
   "execution_count": 37,
   "id": "67a422de",
   "metadata": {},
   "outputs": [],
   "source": [
    "#create dataframe\n",
    "jobs=pd.DataFrame({})\n",
    "jobs[\"job_tittles\"]=job_tittles\n",
    "jobs[\"company_names\"]=company_names\n",
    "jobs[\"job_location\"]=job_location\n",
    "jobs[\"experience_required\"] =exp_required    "
   ]
  },
  {
   "cell_type": "code",
   "execution_count": 38,
   "id": "37a090e4",
   "metadata": {},
   "outputs": [
    {
     "data": {
      "text/html": [
       "<div>\n",
       "<style scoped>\n",
       "    .dataframe tbody tr th:only-of-type {\n",
       "        vertical-align: middle;\n",
       "    }\n",
       "\n",
       "    .dataframe tbody tr th {\n",
       "        vertical-align: top;\n",
       "    }\n",
       "\n",
       "    .dataframe thead th {\n",
       "        text-align: right;\n",
       "    }\n",
       "</style>\n",
       "<table border=\"1\" class=\"dataframe\">\n",
       "  <thead>\n",
       "    <tr style=\"text-align: right;\">\n",
       "      <th></th>\n",
       "      <th>job_tittles</th>\n",
       "      <th>company_names</th>\n",
       "      <th>job_location</th>\n",
       "      <th>experience_required</th>\n",
       "    </tr>\n",
       "  </thead>\n",
       "  <tbody>\n",
       "    <tr>\n",
       "      <th>0</th>\n",
       "      <td>Business Data Analyst</td>\n",
       "      <td>Trigent Software</td>\n",
       "      <td>Bangalore/Bengaluru</td>\n",
       "      <td>3-5 Yrs</td>\n",
       "    </tr>\n",
       "    <tr>\n",
       "      <th>1</th>\n",
       "      <td>Business Data Analyst</td>\n",
       "      <td>Trigent Software</td>\n",
       "      <td>Bangalore/Bengaluru</td>\n",
       "      <td>3-5 Yrs</td>\n",
       "    </tr>\n",
       "    <tr>\n",
       "      <th>2</th>\n",
       "      <td>Data Analyst</td>\n",
       "      <td>Allegis Services India Pvt. Ltd.</td>\n",
       "      <td>Bangalore/Bengaluru</td>\n",
       "      <td>3-5 Yrs</td>\n",
       "    </tr>\n",
       "    <tr>\n",
       "      <th>3</th>\n",
       "      <td>Data Analyst/Business Analyst-Gurgaon/Bangalor...</td>\n",
       "      <td>India Medtronic Pvt. Ltd,.</td>\n",
       "      <td>Gurgaon/Gurugram, Bangalore/Bengaluru, Mumbai ...</td>\n",
       "      <td>1-4 Yrs</td>\n",
       "    </tr>\n",
       "    <tr>\n",
       "      <th>4</th>\n",
       "      <td>Data Analyst</td>\n",
       "      <td>Enzen Global Solutions Pvt. Ltd</td>\n",
       "      <td>Bangalore/Bengaluru</td>\n",
       "      <td>6-8 Yrs</td>\n",
       "    </tr>\n",
       "    <tr>\n",
       "      <th>5</th>\n",
       "      <td>Senior Specialist - Data Analyst</td>\n",
       "      <td>Philips India Limited</td>\n",
       "      <td>Bangalore/Bengaluru</td>\n",
       "      <td>4-8 Yrs</td>\n",
       "    </tr>\n",
       "    <tr>\n",
       "      <th>6</th>\n",
       "      <td>Business/Data Analyst - SSE/LA</td>\n",
       "      <td>CGI Information Systems and Management Consult...</td>\n",
       "      <td>Bangalore/Bengaluru</td>\n",
       "      <td>2-5 Yrs</td>\n",
       "    </tr>\n",
       "    <tr>\n",
       "      <th>7</th>\n",
       "      <td>Business Data Analyst II</td>\n",
       "      <td>Infobahn Softworld Inc.</td>\n",
       "      <td>Bangalore/Bengaluru</td>\n",
       "      <td>5-8 Yrs</td>\n",
       "    </tr>\n",
       "    <tr>\n",
       "      <th>8</th>\n",
       "      <td>Senior Data Analyst - SQL/Tableau/Redshift</td>\n",
       "      <td>Pronto Consulting Services</td>\n",
       "      <td>Noida, Mumbai, Indore, Hyderabad/Secunderabad,...</td>\n",
       "      <td>6-10 Yrs</td>\n",
       "    </tr>\n",
       "    <tr>\n",
       "      <th>9</th>\n",
       "      <td>Data Analyst</td>\n",
       "      <td>WEIWO Communication Pvt. Ltd.</td>\n",
       "      <td>(WFH during Covid)</td>\n",
       "      <td>4-8 Yrs</td>\n",
       "    </tr>\n",
       "  </tbody>\n",
       "</table>\n",
       "</div>"
      ],
      "text/plain": [
       "                                         job_tittles  \\\n",
       "0                              Business Data Analyst   \n",
       "1                              Business Data Analyst   \n",
       "2                                       Data Analyst   \n",
       "3  Data Analyst/Business Analyst-Gurgaon/Bangalor...   \n",
       "4                                       Data Analyst   \n",
       "5                   Senior Specialist - Data Analyst   \n",
       "6                     Business/Data Analyst - SSE/LA   \n",
       "7                           Business Data Analyst II   \n",
       "8         Senior Data Analyst - SQL/Tableau/Redshift   \n",
       "9                                       Data Analyst   \n",
       "\n",
       "                                       company_names  \\\n",
       "0                                   Trigent Software   \n",
       "1                                   Trigent Software   \n",
       "2                   Allegis Services India Pvt. Ltd.   \n",
       "3                         India Medtronic Pvt. Ltd,.   \n",
       "4                    Enzen Global Solutions Pvt. Ltd   \n",
       "5                              Philips India Limited   \n",
       "6  CGI Information Systems and Management Consult...   \n",
       "7                            Infobahn Softworld Inc.   \n",
       "8                         Pronto Consulting Services   \n",
       "9                      WEIWO Communication Pvt. Ltd.   \n",
       "\n",
       "                                        job_location experience_required  \n",
       "0                                Bangalore/Bengaluru             3-5 Yrs  \n",
       "1                                Bangalore/Bengaluru             3-5 Yrs  \n",
       "2                                Bangalore/Bengaluru             3-5 Yrs  \n",
       "3  Gurgaon/Gurugram, Bangalore/Bengaluru, Mumbai ...             1-4 Yrs  \n",
       "4                                Bangalore/Bengaluru             6-8 Yrs  \n",
       "5                                Bangalore/Bengaluru             4-8 Yrs  \n",
       "6                                Bangalore/Bengaluru             2-5 Yrs  \n",
       "7                                Bangalore/Bengaluru             5-8 Yrs  \n",
       "8  Noida, Mumbai, Indore, Hyderabad/Secunderabad,...            6-10 Yrs  \n",
       "9                                 (WFH during Covid)             4-8 Yrs  "
      ]
     },
     "execution_count": 38,
     "metadata": {},
     "output_type": "execute_result"
    }
   ],
   "source": [
    "jobs"
   ]
  },
  {
   "cell_type": "markdown",
   "id": "e9988149",
   "metadata": {},
   "source": [
    "Q2: Write a python program to scrape data for “Data Scientist” Job position in “Bangalore” location. You have to scrape the job-title, job-location, company_name, full job-description. You have to scrape first 10 jobs data."
   ]
  },
  {
   "cell_type": "code",
   "execution_count": 39,
   "id": "01d983db",
   "metadata": {},
   "outputs": [],
   "source": [
    "url=\"https://www.naukri.com/\"\n",
    "driver.get(url) "
   ]
  },
  {
   "cell_type": "code",
   "execution_count": 40,
   "id": "b5835862",
   "metadata": {},
   "outputs": [
    {
     "data": {
      "text/plain": [
       "<selenium.webdriver.remote.webelement.WebElement (session=\"8fbf6b2ef4f3bf22614a51902d78f995\", element=\"1e3b5cf4-f840-4858-8aff-5b9bb3d3fdb9\")>"
      ]
     },
     "execution_count": 40,
     "metadata": {},
     "output_type": "execute_result"
    }
   ],
   "source": [
    "search_job=driver.find_element_by_id(\"qsb-keyword-sugg\")\n",
    "search_job"
   ]
  },
  {
   "cell_type": "code",
   "execution_count": 41,
   "id": "80d80b44",
   "metadata": {},
   "outputs": [],
   "source": [
    "search_job.send_keys(\"Data Scientist\")"
   ]
  },
  {
   "cell_type": "code",
   "execution_count": 42,
   "id": "794e72d2",
   "metadata": {},
   "outputs": [],
   "source": [
    "search_loc=driver.find_element_by_id(\"qsb-location-sugg\")\n",
    "search_loc.send_keys(\"Bangalore\")"
   ]
  },
  {
   "cell_type": "code",
   "execution_count": 43,
   "id": "8becd2da",
   "metadata": {},
   "outputs": [
    {
     "data": {
      "text/plain": [
       "<selenium.webdriver.remote.webelement.WebElement (session=\"8fbf6b2ef4f3bf22614a51902d78f995\", element=\"dc83496d-c12d-4762-a27c-f07443e82eac\")>"
      ]
     },
     "execution_count": 43,
     "metadata": {},
     "output_type": "execute_result"
    }
   ],
   "source": [
    "search_btn=driver.find_element_by_xpath(\"//button[@class='btn']\")\n",
    "search_btn\n"
   ]
  },
  {
   "cell_type": "code",
   "execution_count": 44,
   "id": "7432d990",
   "metadata": {},
   "outputs": [],
   "source": [
    "search_btn.click()"
   ]
  },
  {
   "cell_type": "code",
   "execution_count": 46,
   "id": "5acaa1e2",
   "metadata": {},
   "outputs": [
    {
     "data": {
      "text/plain": [
       "[<selenium.webdriver.remote.webelement.WebElement (session=\"8fbf6b2ef4f3bf22614a51902d78f995\", element=\"c4c30fc4-80a8-49ed-bd53-d22c46dcfae8\")>,\n",
       " <selenium.webdriver.remote.webelement.WebElement (session=\"8fbf6b2ef4f3bf22614a51902d78f995\", element=\"ae911f6b-b547-4db9-abef-54f14d295f91\")>,\n",
       " <selenium.webdriver.remote.webelement.WebElement (session=\"8fbf6b2ef4f3bf22614a51902d78f995\", element=\"39670d86-ac6b-4638-ae12-47a86d6b6cbf\")>,\n",
       " <selenium.webdriver.remote.webelement.WebElement (session=\"8fbf6b2ef4f3bf22614a51902d78f995\", element=\"9f0c50ea-4754-4d8c-9373-013f938c3b0c\")>,\n",
       " <selenium.webdriver.remote.webelement.WebElement (session=\"8fbf6b2ef4f3bf22614a51902d78f995\", element=\"48cf70c8-57e3-433c-8fae-b1dc46ed8a50\")>,\n",
       " <selenium.webdriver.remote.webelement.WebElement (session=\"8fbf6b2ef4f3bf22614a51902d78f995\", element=\"ccbd3a81-19ae-4566-8b30-7b63bb6547f8\")>,\n",
       " <selenium.webdriver.remote.webelement.WebElement (session=\"8fbf6b2ef4f3bf22614a51902d78f995\", element=\"32319c34-0627-4b5f-a0a6-84cbc0ec4e87\")>,\n",
       " <selenium.webdriver.remote.webelement.WebElement (session=\"8fbf6b2ef4f3bf22614a51902d78f995\", element=\"764343a7-3250-42f8-8652-a2fc1cd0629f\")>,\n",
       " <selenium.webdriver.remote.webelement.WebElement (session=\"8fbf6b2ef4f3bf22614a51902d78f995\", element=\"6808176d-4741-455b-b6ab-1e1e388a6e00\")>,\n",
       " <selenium.webdriver.remote.webelement.WebElement (session=\"8fbf6b2ef4f3bf22614a51902d78f995\", element=\"f378da5d-27a5-42d6-b0c8-0d8b1fd8997d\")>,\n",
       " <selenium.webdriver.remote.webelement.WebElement (session=\"8fbf6b2ef4f3bf22614a51902d78f995\", element=\"aa091332-690a-468b-a462-32e2fbad530a\")>,\n",
       " <selenium.webdriver.remote.webelement.WebElement (session=\"8fbf6b2ef4f3bf22614a51902d78f995\", element=\"52a34d54-8dd0-4359-bf5f-44f2575a7455\")>,\n",
       " <selenium.webdriver.remote.webelement.WebElement (session=\"8fbf6b2ef4f3bf22614a51902d78f995\", element=\"7f30e74a-ba89-4571-b84a-d935c50c2279\")>,\n",
       " <selenium.webdriver.remote.webelement.WebElement (session=\"8fbf6b2ef4f3bf22614a51902d78f995\", element=\"9484668f-0161-4a71-8a2f-3c6fa1bc264c\")>,\n",
       " <selenium.webdriver.remote.webelement.WebElement (session=\"8fbf6b2ef4f3bf22614a51902d78f995\", element=\"8463b156-8eec-491b-8424-872d7ec7f483\")>,\n",
       " <selenium.webdriver.remote.webelement.WebElement (session=\"8fbf6b2ef4f3bf22614a51902d78f995\", element=\"80a04e98-3cc2-4a9c-aea1-98bc31c4a1d9\")>,\n",
       " <selenium.webdriver.remote.webelement.WebElement (session=\"8fbf6b2ef4f3bf22614a51902d78f995\", element=\"f043fc1a-8399-4e06-8e48-d5d818f8c2c0\")>,\n",
       " <selenium.webdriver.remote.webelement.WebElement (session=\"8fbf6b2ef4f3bf22614a51902d78f995\", element=\"990978f1-74ed-4513-ad57-be5f3b926101\")>,\n",
       " <selenium.webdriver.remote.webelement.WebElement (session=\"8fbf6b2ef4f3bf22614a51902d78f995\", element=\"97009dd1-06d3-49dc-a0e2-cdf090487288\")>,\n",
       " <selenium.webdriver.remote.webelement.WebElement (session=\"8fbf6b2ef4f3bf22614a51902d78f995\", element=\"ffac0a3f-6c2e-400b-889c-7f261170f8a5\")>]"
      ]
     },
     "execution_count": 46,
     "metadata": {},
     "output_type": "execute_result"
    }
   ],
   "source": [
    "#extracting the tags from job tittle\n",
    "tittle_tags=driver.find_elements_by_xpath(\"//a[@class='title fw500 ellipsis']\")\n",
    "tittle_tags"
   ]
  },
  {
   "cell_type": "code",
   "execution_count": 47,
   "id": "e37e4bf2",
   "metadata": {},
   "outputs": [
    {
     "data": {
      "text/plain": [
       "['Data Scientist',\n",
       " 'Senior Data Scientist',\n",
       " 'Senior Data Scientist',\n",
       " 'Data Scientist',\n",
       " 'Senior Data Scientist - Bangalore - Reputed MNC',\n",
       " 'Data Scientist: Advanced Analytics',\n",
       " 'Senior Data Scientist',\n",
       " 'Senior Data Scientist',\n",
       " 'Senior Data Scientist',\n",
       " 'Senior Data Scientist']"
      ]
     },
     "execution_count": 47,
     "metadata": {},
     "output_type": "execute_result"
    }
   ],
   "source": [
    "#now the job tittle text is inside  extracted above\n",
    "#so we will run a loop iterate over a loop and extracted the text inside them\n",
    "job_tittles=[]\n",
    "for i in tittle_tags[:10]:\n",
    "    job_tittles.append(i.text)\n",
    "job_tittles    \n",
    "    "
   ]
  },
  {
   "cell_type": "code",
   "execution_count": 48,
   "id": "d5b38fad",
   "metadata": {},
   "outputs": [
    {
     "data": {
      "text/plain": [
       "[<selenium.webdriver.remote.webelement.WebElement (session=\"8fbf6b2ef4f3bf22614a51902d78f995\", element=\"f967c2d2-4787-4486-898b-7245228b128c\")>,\n",
       " <selenium.webdriver.remote.webelement.WebElement (session=\"8fbf6b2ef4f3bf22614a51902d78f995\", element=\"1bf6309e-d3b7-4c5f-bf60-f366dfae24af\")>,\n",
       " <selenium.webdriver.remote.webelement.WebElement (session=\"8fbf6b2ef4f3bf22614a51902d78f995\", element=\"59d3f211-0bf9-4735-ae2f-39de18761492\")>,\n",
       " <selenium.webdriver.remote.webelement.WebElement (session=\"8fbf6b2ef4f3bf22614a51902d78f995\", element=\"b9df1fab-6b18-4676-b8ac-6a71f21e4353\")>,\n",
       " <selenium.webdriver.remote.webelement.WebElement (session=\"8fbf6b2ef4f3bf22614a51902d78f995\", element=\"1f4da633-0c90-47bb-8ddf-e121260305b7\")>,\n",
       " <selenium.webdriver.remote.webelement.WebElement (session=\"8fbf6b2ef4f3bf22614a51902d78f995\", element=\"b69b914e-cbdb-40a6-8f28-7f25cbacfabb\")>,\n",
       " <selenium.webdriver.remote.webelement.WebElement (session=\"8fbf6b2ef4f3bf22614a51902d78f995\", element=\"28306661-31c6-485c-9da8-fea8ff88d021\")>,\n",
       " <selenium.webdriver.remote.webelement.WebElement (session=\"8fbf6b2ef4f3bf22614a51902d78f995\", element=\"fb9baa62-f85d-4df5-b0e7-fe8818cad9e3\")>,\n",
       " <selenium.webdriver.remote.webelement.WebElement (session=\"8fbf6b2ef4f3bf22614a51902d78f995\", element=\"51c0da0d-ee5c-4cbf-9a87-9b090a552887\")>,\n",
       " <selenium.webdriver.remote.webelement.WebElement (session=\"8fbf6b2ef4f3bf22614a51902d78f995\", element=\"d583c136-4001-46ac-856a-49e49075b0b8\")>,\n",
       " <selenium.webdriver.remote.webelement.WebElement (session=\"8fbf6b2ef4f3bf22614a51902d78f995\", element=\"0b30dcf2-018f-4bec-8394-d3507ed934ce\")>,\n",
       " <selenium.webdriver.remote.webelement.WebElement (session=\"8fbf6b2ef4f3bf22614a51902d78f995\", element=\"a5942c7d-4bb5-4c25-a7fd-e6ab1c32da5e\")>,\n",
       " <selenium.webdriver.remote.webelement.WebElement (session=\"8fbf6b2ef4f3bf22614a51902d78f995\", element=\"773a978c-4c98-49c5-88ea-7dc111785ad8\")>,\n",
       " <selenium.webdriver.remote.webelement.WebElement (session=\"8fbf6b2ef4f3bf22614a51902d78f995\", element=\"322827c8-147c-458f-b42b-f50dc984aaca\")>,\n",
       " <selenium.webdriver.remote.webelement.WebElement (session=\"8fbf6b2ef4f3bf22614a51902d78f995\", element=\"64cd52a4-4288-46f9-a261-ce6bc6dc6953\")>,\n",
       " <selenium.webdriver.remote.webelement.WebElement (session=\"8fbf6b2ef4f3bf22614a51902d78f995\", element=\"28845475-714b-4f4c-a4c1-50ae53d2125e\")>,\n",
       " <selenium.webdriver.remote.webelement.WebElement (session=\"8fbf6b2ef4f3bf22614a51902d78f995\", element=\"fd6f58e3-7b03-4ccd-bee2-35756c9ad02c\")>,\n",
       " <selenium.webdriver.remote.webelement.WebElement (session=\"8fbf6b2ef4f3bf22614a51902d78f995\", element=\"a49ba432-da73-431d-bdd9-92ec54226c16\")>,\n",
       " <selenium.webdriver.remote.webelement.WebElement (session=\"8fbf6b2ef4f3bf22614a51902d78f995\", element=\"62f65b66-89b1-45a2-9379-4165a715d7e8\")>,\n",
       " <selenium.webdriver.remote.webelement.WebElement (session=\"8fbf6b2ef4f3bf22614a51902d78f995\", element=\"2c7ba220-d208-4777-bb3f-1de41867a67f\")>]"
      ]
     },
     "execution_count": 48,
     "metadata": {},
     "output_type": "execute_result"
    }
   ],
   "source": [
    "comp_tags=driver.find_elements_by_xpath(\"//a[@class='subTitle ellipsis fleft']\")\n",
    "comp_tags"
   ]
  },
  {
   "cell_type": "code",
   "execution_count": 49,
   "id": "dd748358",
   "metadata": {},
   "outputs": [
    {
     "data": {
      "text/plain": [
       "['Oracle India Pvt. Ltd.',\n",
       " 'Philips India Limited',\n",
       " 'Datamatics Global Services Ltd',\n",
       " 'FARMWISEAI PRIVATE LIMITED',\n",
       " 'EVOLVE TECHNOLOGIES AND SERVICES PRIVATE LIMITED',\n",
       " 'IBM India Pvt. Limited',\n",
       " 'SYMBIOSIS International W.L.L',\n",
       " 'IBM India Pvt. Limited',\n",
       " 'Publicis Groupe',\n",
       " 'Bidgely Technologies Private Limited']"
      ]
     },
     "execution_count": 49,
     "metadata": {},
     "output_type": "execute_result"
    }
   ],
   "source": [
    "company_names=[]\n",
    "for i in comp_tags[:10]:\n",
    "    company_names.append(i.text)\n",
    "company_names "
   ]
  },
  {
   "cell_type": "code",
   "execution_count": 50,
   "id": "69bd9215",
   "metadata": {},
   "outputs": [
    {
     "data": {
      "text/plain": [
       "[<selenium.webdriver.remote.webelement.WebElement (session=\"8fbf6b2ef4f3bf22614a51902d78f995\", element=\"848f3f5a-5bfa-498e-8d71-683e2e1a78a0\")>,\n",
       " <selenium.webdriver.remote.webelement.WebElement (session=\"8fbf6b2ef4f3bf22614a51902d78f995\", element=\"5891a79e-aa12-43e9-962e-c332d8240434\")>,\n",
       " <selenium.webdriver.remote.webelement.WebElement (session=\"8fbf6b2ef4f3bf22614a51902d78f995\", element=\"4b8dec99-6a0a-4633-a249-8d10db64a419\")>,\n",
       " <selenium.webdriver.remote.webelement.WebElement (session=\"8fbf6b2ef4f3bf22614a51902d78f995\", element=\"a40481a5-09e9-471d-ad9a-9303863852fd\")>,\n",
       " <selenium.webdriver.remote.webelement.WebElement (session=\"8fbf6b2ef4f3bf22614a51902d78f995\", element=\"c201ccc6-eff7-4b94-b85e-b978528c8ef6\")>,\n",
       " <selenium.webdriver.remote.webelement.WebElement (session=\"8fbf6b2ef4f3bf22614a51902d78f995\", element=\"8066cf1a-9dd9-44e4-93ad-67c876fc0e24\")>,\n",
       " <selenium.webdriver.remote.webelement.WebElement (session=\"8fbf6b2ef4f3bf22614a51902d78f995\", element=\"27ddbe87-353f-47a0-a655-89a77854db9f\")>,\n",
       " <selenium.webdriver.remote.webelement.WebElement (session=\"8fbf6b2ef4f3bf22614a51902d78f995\", element=\"915258c1-39e7-4eab-87e9-237801ceb7a1\")>,\n",
       " <selenium.webdriver.remote.webelement.WebElement (session=\"8fbf6b2ef4f3bf22614a51902d78f995\", element=\"b201c222-6057-4e5f-904f-6998bb9523ec\")>,\n",
       " <selenium.webdriver.remote.webelement.WebElement (session=\"8fbf6b2ef4f3bf22614a51902d78f995\", element=\"3bfb58a5-84be-437a-a858-0bc83b095d79\")>,\n",
       " <selenium.webdriver.remote.webelement.WebElement (session=\"8fbf6b2ef4f3bf22614a51902d78f995\", element=\"8da42fef-0bc7-4467-87c1-76d8857d2597\")>,\n",
       " <selenium.webdriver.remote.webelement.WebElement (session=\"8fbf6b2ef4f3bf22614a51902d78f995\", element=\"42b2a1fe-4a9f-4884-a690-a21c28206a21\")>,\n",
       " <selenium.webdriver.remote.webelement.WebElement (session=\"8fbf6b2ef4f3bf22614a51902d78f995\", element=\"9e7ef5a2-5740-4de5-96eb-61348c5c2414\")>,\n",
       " <selenium.webdriver.remote.webelement.WebElement (session=\"8fbf6b2ef4f3bf22614a51902d78f995\", element=\"8c280026-b047-4755-89e1-64ca20970b93\")>,\n",
       " <selenium.webdriver.remote.webelement.WebElement (session=\"8fbf6b2ef4f3bf22614a51902d78f995\", element=\"af7e49a0-7cb2-43d7-8db3-ed12273c479c\")>,\n",
       " <selenium.webdriver.remote.webelement.WebElement (session=\"8fbf6b2ef4f3bf22614a51902d78f995\", element=\"6791fec0-985b-4997-974d-82b426b6227d\")>,\n",
       " <selenium.webdriver.remote.webelement.WebElement (session=\"8fbf6b2ef4f3bf22614a51902d78f995\", element=\"bd473c37-9108-4310-999a-6197be5348c3\")>,\n",
       " <selenium.webdriver.remote.webelement.WebElement (session=\"8fbf6b2ef4f3bf22614a51902d78f995\", element=\"fb903568-db3b-4395-9c0c-a0329a37a8f9\")>,\n",
       " <selenium.webdriver.remote.webelement.WebElement (session=\"8fbf6b2ef4f3bf22614a51902d78f995\", element=\"9b6ff1f7-98b7-4bb2-be97-4b66989b7fdc\")>,\n",
       " <selenium.webdriver.remote.webelement.WebElement (session=\"8fbf6b2ef4f3bf22614a51902d78f995\", element=\"47e0abee-8c24-4d82-b242-72723b8364dc\")>,\n",
       " <selenium.webdriver.remote.webelement.WebElement (session=\"8fbf6b2ef4f3bf22614a51902d78f995\", element=\"8b55e2a9-c0ce-44ca-9d73-4aaba2a00cd7\")>]"
      ]
     },
     "execution_count": 50,
     "metadata": {},
     "output_type": "execute_result"
    }
   ],
   "source": [
    "loc_tags=driver.find_elements_by_xpath(\"//li[@class='fleft grey-text br2 placeHolderLi location']//span\")\n",
    "loc_tags"
   ]
  },
  {
   "cell_type": "code",
   "execution_count": 51,
   "id": "69b57434",
   "metadata": {},
   "outputs": [
    {
     "data": {
      "text/plain": [
       "['Bangalore/Bengaluru',\n",
       " 'Bangalore/Bengaluru',\n",
       " 'Bangalore/Bengaluru',\n",
       " 'Hyderabad/Secunderabad, Chennai, Bangalore/Bengaluru',\n",
       " 'Bangalore/Bengaluru',\n",
       " 'Bangalore/Bengaluru',\n",
       " 'Bangalore/Bengaluru',\n",
       " 'Bangalore/Bengaluru',\n",
       " 'Bangalore/Bengaluru',\n",
       " 'Bangalore/Bengaluru']"
      ]
     },
     "execution_count": 51,
     "metadata": {},
     "output_type": "execute_result"
    }
   ],
   "source": [
    "job_location=[]\n",
    "for i in loc_tags[:10]:\n",
    "    job_location.append(i.text)\n",
    "job_location "
   ]
  },
  {
   "cell_type": "code",
   "execution_count": 52,
   "id": "c926d451",
   "metadata": {},
   "outputs": [
    {
     "data": {
      "text/plain": [
       "[<selenium.webdriver.remote.webelement.WebElement (session=\"8fbf6b2ef4f3bf22614a51902d78f995\", element=\"988b63d9-9d06-4551-94d2-68c42bd20c11\")>,\n",
       " <selenium.webdriver.remote.webelement.WebElement (session=\"8fbf6b2ef4f3bf22614a51902d78f995\", element=\"3a427c42-86cd-4a53-b303-376795d22e86\")>,\n",
       " <selenium.webdriver.remote.webelement.WebElement (session=\"8fbf6b2ef4f3bf22614a51902d78f995\", element=\"762fc6b5-fa19-4d1f-a5f4-a9a940cfd1e6\")>,\n",
       " <selenium.webdriver.remote.webelement.WebElement (session=\"8fbf6b2ef4f3bf22614a51902d78f995\", element=\"8b9f56fd-dd8b-4594-a1fd-6e591704cbbb\")>,\n",
       " <selenium.webdriver.remote.webelement.WebElement (session=\"8fbf6b2ef4f3bf22614a51902d78f995\", element=\"d8328d60-75ad-4211-aeeb-77894c2b9915\")>,\n",
       " <selenium.webdriver.remote.webelement.WebElement (session=\"8fbf6b2ef4f3bf22614a51902d78f995\", element=\"25b36fde-832d-47a6-bf06-76c74fa471f7\")>,\n",
       " <selenium.webdriver.remote.webelement.WebElement (session=\"8fbf6b2ef4f3bf22614a51902d78f995\", element=\"6642368a-cf75-41d2-b652-bc9a0b68aa5b\")>,\n",
       " <selenium.webdriver.remote.webelement.WebElement (session=\"8fbf6b2ef4f3bf22614a51902d78f995\", element=\"fd965ad4-0493-4af5-8b43-85849cfc9ec6\")>,\n",
       " <selenium.webdriver.remote.webelement.WebElement (session=\"8fbf6b2ef4f3bf22614a51902d78f995\", element=\"3896019a-a436-4137-aa60-0f3cf8a54e93\")>,\n",
       " <selenium.webdriver.remote.webelement.WebElement (session=\"8fbf6b2ef4f3bf22614a51902d78f995\", element=\"8eaa3987-1a53-484b-9cd2-d3c561a109de\")>,\n",
       " <selenium.webdriver.remote.webelement.WebElement (session=\"8fbf6b2ef4f3bf22614a51902d78f995\", element=\"c0e57eed-db58-4527-b002-f76f43bbe6e0\")>,\n",
       " <selenium.webdriver.remote.webelement.WebElement (session=\"8fbf6b2ef4f3bf22614a51902d78f995\", element=\"dbdb7231-a04c-4f47-8f25-b0a4df92cea8\")>,\n",
       " <selenium.webdriver.remote.webelement.WebElement (session=\"8fbf6b2ef4f3bf22614a51902d78f995\", element=\"62dcb767-ec4c-45b4-ac5e-77d5d64048bf\")>,\n",
       " <selenium.webdriver.remote.webelement.WebElement (session=\"8fbf6b2ef4f3bf22614a51902d78f995\", element=\"bc37d244-5634-488d-b59a-3f0fda5dc6c1\")>,\n",
       " <selenium.webdriver.remote.webelement.WebElement (session=\"8fbf6b2ef4f3bf22614a51902d78f995\", element=\"3d89de2d-5d1c-44ed-b5bb-b7566395cbe1\")>,\n",
       " <selenium.webdriver.remote.webelement.WebElement (session=\"8fbf6b2ef4f3bf22614a51902d78f995\", element=\"e32c0788-cc25-4ed8-94a4-1628bfce7c69\")>,\n",
       " <selenium.webdriver.remote.webelement.WebElement (session=\"8fbf6b2ef4f3bf22614a51902d78f995\", element=\"5c40ca33-0c4a-496a-9efa-54f95d22cf04\")>,\n",
       " <selenium.webdriver.remote.webelement.WebElement (session=\"8fbf6b2ef4f3bf22614a51902d78f995\", element=\"1302fd54-bef4-4e2f-bdee-b8a1c143acf6\")>,\n",
       " <selenium.webdriver.remote.webelement.WebElement (session=\"8fbf6b2ef4f3bf22614a51902d78f995\", element=\"1d6289fd-91c1-4f59-8077-a9cbf1eda529\")>,\n",
       " <selenium.webdriver.remote.webelement.WebElement (session=\"8fbf6b2ef4f3bf22614a51902d78f995\", element=\"d8dbf1bd-221f-4c31-94c5-75bdcc267246\")>]"
      ]
     },
     "execution_count": 52,
     "metadata": {},
     "output_type": "execute_result"
    }
   ],
   "source": [
    "jobdesc_tags=driver.find_elements_by_xpath(\"//div[@class='job-description fs12 grey-text']\")\n",
    "jobdesc_tags"
   ]
  },
  {
   "cell_type": "code",
   "execution_count": 53,
   "id": "cb365a72",
   "metadata": {},
   "outputs": [
    {
     "data": {
      "text/plain": [
       "['Roles and Responsibilities Looking for 6+ yrs of experience in data science, predictive...',\n",
       " 'A Master s Degree or PhD in Computer Science, Econometrics, Artificial Intelligence, Ap...',\n",
       " 'Roles and Responsibilities Details in lined for Hiring Team to focus:The hiring is for ...',\n",
       " 'Please note : The role requires someone to work remotely (work from home) permanentlyEx...',\n",
       " 'Bachelors degree with 8+ yrs of experience or Masters degree with 6+ yrs of experience ...',\n",
       " 'As a Data Scientist at IBM, you will help transform our clients data into tangible busi...',\n",
       " 'Masters degree from top-tier college / university in Computer Science, Statistics, Econ...',\n",
       " 'Experience in end-to-end ML engineering / MLOpsDemonstrated experience in understanding...',\n",
       " 'Shift timing: 12PM to 9PM Bachelor s or Master s degree in a quantitative discipline (e...',\n",
       " 'You must have delivered advanced statistical and machine learning models as part of com...']"
      ]
     },
     "execution_count": 53,
     "metadata": {},
     "output_type": "execute_result"
    }
   ],
   "source": [
    "job_description=[]\n",
    "for i in jobdesc_tags[:10]:\n",
    "    job_description.append(i.text)\n",
    "job_description"
   ]
  },
  {
   "cell_type": "code",
   "execution_count": 55,
   "id": "eaa01574",
   "metadata": {},
   "outputs": [],
   "source": [
    "#create dataframe\n",
    "jobs=pd.DataFrame({})\n",
    "jobs[\"job_tittles\"]=job_tittles\n",
    "jobs[\"company_names\"]=company_names\n",
    "jobs[\"job_location\"]=job_location\n",
    "jobs[\"job_description\"] =job_description"
   ]
  },
  {
   "cell_type": "code",
   "execution_count": 56,
   "id": "b7482f4e",
   "metadata": {},
   "outputs": [
    {
     "data": {
      "text/html": [
       "<div>\n",
       "<style scoped>\n",
       "    .dataframe tbody tr th:only-of-type {\n",
       "        vertical-align: middle;\n",
       "    }\n",
       "\n",
       "    .dataframe tbody tr th {\n",
       "        vertical-align: top;\n",
       "    }\n",
       "\n",
       "    .dataframe thead th {\n",
       "        text-align: right;\n",
       "    }\n",
       "</style>\n",
       "<table border=\"1\" class=\"dataframe\">\n",
       "  <thead>\n",
       "    <tr style=\"text-align: right;\">\n",
       "      <th></th>\n",
       "      <th>job_tittles</th>\n",
       "      <th>company_names</th>\n",
       "      <th>job_location</th>\n",
       "      <th>job_description</th>\n",
       "    </tr>\n",
       "  </thead>\n",
       "  <tbody>\n",
       "    <tr>\n",
       "      <th>0</th>\n",
       "      <td>Data Scientist</td>\n",
       "      <td>Oracle India Pvt. Ltd.</td>\n",
       "      <td>Bangalore/Bengaluru</td>\n",
       "      <td>Roles and Responsibilities Looking for 6+ yrs ...</td>\n",
       "    </tr>\n",
       "    <tr>\n",
       "      <th>1</th>\n",
       "      <td>Senior Data Scientist</td>\n",
       "      <td>Philips India Limited</td>\n",
       "      <td>Bangalore/Bengaluru</td>\n",
       "      <td>A Master s Degree or PhD in Computer Science, ...</td>\n",
       "    </tr>\n",
       "    <tr>\n",
       "      <th>2</th>\n",
       "      <td>Senior Data Scientist</td>\n",
       "      <td>Datamatics Global Services Ltd</td>\n",
       "      <td>Bangalore/Bengaluru</td>\n",
       "      <td>Roles and Responsibilities Details in lined fo...</td>\n",
       "    </tr>\n",
       "    <tr>\n",
       "      <th>3</th>\n",
       "      <td>Data Scientist</td>\n",
       "      <td>FARMWISEAI PRIVATE LIMITED</td>\n",
       "      <td>Hyderabad/Secunderabad, Chennai, Bangalore/Ben...</td>\n",
       "      <td>Please note : The role requires someone to wor...</td>\n",
       "    </tr>\n",
       "    <tr>\n",
       "      <th>4</th>\n",
       "      <td>Senior Data Scientist - Bangalore - Reputed MNC</td>\n",
       "      <td>EVOLVE TECHNOLOGIES AND SERVICES PRIVATE LIMITED</td>\n",
       "      <td>Bangalore/Bengaluru</td>\n",
       "      <td>Bachelors degree with 8+ yrs of experience or ...</td>\n",
       "    </tr>\n",
       "    <tr>\n",
       "      <th>5</th>\n",
       "      <td>Data Scientist: Advanced Analytics</td>\n",
       "      <td>IBM India Pvt. Limited</td>\n",
       "      <td>Bangalore/Bengaluru</td>\n",
       "      <td>As a Data Scientist at IBM, you will help tran...</td>\n",
       "    </tr>\n",
       "    <tr>\n",
       "      <th>6</th>\n",
       "      <td>Senior Data Scientist</td>\n",
       "      <td>SYMBIOSIS International W.L.L</td>\n",
       "      <td>Bangalore/Bengaluru</td>\n",
       "      <td>Masters degree from top-tier college / univers...</td>\n",
       "    </tr>\n",
       "    <tr>\n",
       "      <th>7</th>\n",
       "      <td>Senior Data Scientist</td>\n",
       "      <td>IBM India Pvt. Limited</td>\n",
       "      <td>Bangalore/Bengaluru</td>\n",
       "      <td>Experience in end-to-end ML engineering / MLOp...</td>\n",
       "    </tr>\n",
       "    <tr>\n",
       "      <th>8</th>\n",
       "      <td>Senior Data Scientist</td>\n",
       "      <td>Publicis Groupe</td>\n",
       "      <td>Bangalore/Bengaluru</td>\n",
       "      <td>Shift timing: 12PM to 9PM Bachelor s or Master...</td>\n",
       "    </tr>\n",
       "    <tr>\n",
       "      <th>9</th>\n",
       "      <td>Senior Data Scientist</td>\n",
       "      <td>Bidgely Technologies Private Limited</td>\n",
       "      <td>Bangalore/Bengaluru</td>\n",
       "      <td>You must have delivered advanced statistical a...</td>\n",
       "    </tr>\n",
       "  </tbody>\n",
       "</table>\n",
       "</div>"
      ],
      "text/plain": [
       "                                       job_tittles  \\\n",
       "0                                   Data Scientist   \n",
       "1                            Senior Data Scientist   \n",
       "2                            Senior Data Scientist   \n",
       "3                                   Data Scientist   \n",
       "4  Senior Data Scientist - Bangalore - Reputed MNC   \n",
       "5               Data Scientist: Advanced Analytics   \n",
       "6                            Senior Data Scientist   \n",
       "7                            Senior Data Scientist   \n",
       "8                            Senior Data Scientist   \n",
       "9                            Senior Data Scientist   \n",
       "\n",
       "                                      company_names  \\\n",
       "0                            Oracle India Pvt. Ltd.   \n",
       "1                             Philips India Limited   \n",
       "2                    Datamatics Global Services Ltd   \n",
       "3                        FARMWISEAI PRIVATE LIMITED   \n",
       "4  EVOLVE TECHNOLOGIES AND SERVICES PRIVATE LIMITED   \n",
       "5                            IBM India Pvt. Limited   \n",
       "6                     SYMBIOSIS International W.L.L   \n",
       "7                            IBM India Pvt. Limited   \n",
       "8                                   Publicis Groupe   \n",
       "9              Bidgely Technologies Private Limited   \n",
       "\n",
       "                                        job_location  \\\n",
       "0                                Bangalore/Bengaluru   \n",
       "1                                Bangalore/Bengaluru   \n",
       "2                                Bangalore/Bengaluru   \n",
       "3  Hyderabad/Secunderabad, Chennai, Bangalore/Ben...   \n",
       "4                                Bangalore/Bengaluru   \n",
       "5                                Bangalore/Bengaluru   \n",
       "6                                Bangalore/Bengaluru   \n",
       "7                                Bangalore/Bengaluru   \n",
       "8                                Bangalore/Bengaluru   \n",
       "9                                Bangalore/Bengaluru   \n",
       "\n",
       "                                     job_description  \n",
       "0  Roles and Responsibilities Looking for 6+ yrs ...  \n",
       "1  A Master s Degree or PhD in Computer Science, ...  \n",
       "2  Roles and Responsibilities Details in lined fo...  \n",
       "3  Please note : The role requires someone to wor...  \n",
       "4  Bachelors degree with 8+ yrs of experience or ...  \n",
       "5  As a Data Scientist at IBM, you will help tran...  \n",
       "6  Masters degree from top-tier college / univers...  \n",
       "7  Experience in end-to-end ML engineering / MLOp...  \n",
       "8  Shift timing: 12PM to 9PM Bachelor s or Master...  \n",
       "9  You must have delivered advanced statistical a...  "
      ]
     },
     "execution_count": 56,
     "metadata": {},
     "output_type": "execute_result"
    }
   ],
   "source": [
    "jobs"
   ]
  },
  {
   "cell_type": "code",
   "execution_count": 57,
   "id": "02456dfc",
   "metadata": {},
   "outputs": [
    {
     "data": {
      "text/plain": [
       "[<selenium.webdriver.remote.webelement.WebElement (session=\"8fbf6b2ef4f3bf22614a51902d78f995\", element=\"c4c30fc4-80a8-49ed-bd53-d22c46dcfae8\")>,\n",
       " <selenium.webdriver.remote.webelement.WebElement (session=\"8fbf6b2ef4f3bf22614a51902d78f995\", element=\"ae911f6b-b547-4db9-abef-54f14d295f91\")>,\n",
       " <selenium.webdriver.remote.webelement.WebElement (session=\"8fbf6b2ef4f3bf22614a51902d78f995\", element=\"39670d86-ac6b-4638-ae12-47a86d6b6cbf\")>,\n",
       " <selenium.webdriver.remote.webelement.WebElement (session=\"8fbf6b2ef4f3bf22614a51902d78f995\", element=\"9f0c50ea-4754-4d8c-9373-013f938c3b0c\")>,\n",
       " <selenium.webdriver.remote.webelement.WebElement (session=\"8fbf6b2ef4f3bf22614a51902d78f995\", element=\"48cf70c8-57e3-433c-8fae-b1dc46ed8a50\")>,\n",
       " <selenium.webdriver.remote.webelement.WebElement (session=\"8fbf6b2ef4f3bf22614a51902d78f995\", element=\"ccbd3a81-19ae-4566-8b30-7b63bb6547f8\")>,\n",
       " <selenium.webdriver.remote.webelement.WebElement (session=\"8fbf6b2ef4f3bf22614a51902d78f995\", element=\"32319c34-0627-4b5f-a0a6-84cbc0ec4e87\")>,\n",
       " <selenium.webdriver.remote.webelement.WebElement (session=\"8fbf6b2ef4f3bf22614a51902d78f995\", element=\"764343a7-3250-42f8-8652-a2fc1cd0629f\")>,\n",
       " <selenium.webdriver.remote.webelement.WebElement (session=\"8fbf6b2ef4f3bf22614a51902d78f995\", element=\"6808176d-4741-455b-b6ab-1e1e388a6e00\")>,\n",
       " <selenium.webdriver.remote.webelement.WebElement (session=\"8fbf6b2ef4f3bf22614a51902d78f995\", element=\"f378da5d-27a5-42d6-b0c8-0d8b1fd8997d\")>,\n",
       " <selenium.webdriver.remote.webelement.WebElement (session=\"8fbf6b2ef4f3bf22614a51902d78f995\", element=\"aa091332-690a-468b-a462-32e2fbad530a\")>,\n",
       " <selenium.webdriver.remote.webelement.WebElement (session=\"8fbf6b2ef4f3bf22614a51902d78f995\", element=\"52a34d54-8dd0-4359-bf5f-44f2575a7455\")>,\n",
       " <selenium.webdriver.remote.webelement.WebElement (session=\"8fbf6b2ef4f3bf22614a51902d78f995\", element=\"7f30e74a-ba89-4571-b84a-d935c50c2279\")>,\n",
       " <selenium.webdriver.remote.webelement.WebElement (session=\"8fbf6b2ef4f3bf22614a51902d78f995\", element=\"9484668f-0161-4a71-8a2f-3c6fa1bc264c\")>,\n",
       " <selenium.webdriver.remote.webelement.WebElement (session=\"8fbf6b2ef4f3bf22614a51902d78f995\", element=\"8463b156-8eec-491b-8424-872d7ec7f483\")>,\n",
       " <selenium.webdriver.remote.webelement.WebElement (session=\"8fbf6b2ef4f3bf22614a51902d78f995\", element=\"80a04e98-3cc2-4a9c-aea1-98bc31c4a1d9\")>,\n",
       " <selenium.webdriver.remote.webelement.WebElement (session=\"8fbf6b2ef4f3bf22614a51902d78f995\", element=\"f043fc1a-8399-4e06-8e48-d5d818f8c2c0\")>,\n",
       " <selenium.webdriver.remote.webelement.WebElement (session=\"8fbf6b2ef4f3bf22614a51902d78f995\", element=\"990978f1-74ed-4513-ad57-be5f3b926101\")>,\n",
       " <selenium.webdriver.remote.webelement.WebElement (session=\"8fbf6b2ef4f3bf22614a51902d78f995\", element=\"97009dd1-06d3-49dc-a0e2-cdf090487288\")>,\n",
       " <selenium.webdriver.remote.webelement.WebElement (session=\"8fbf6b2ef4f3bf22614a51902d78f995\", element=\"ffac0a3f-6c2e-400b-889c-7f261170f8a5\")>]"
      ]
     },
     "execution_count": 57,
     "metadata": {},
     "output_type": "execute_result"
    }
   ],
   "source": [
    "url=driver.find_elements_by_xpath(\"//a[@class='title fw500 ellipsis']\")\n",
    "url"
   ]
  },
  {
   "cell_type": "code",
   "execution_count": 58,
   "id": "8f844d35",
   "metadata": {},
   "outputs": [
    {
     "data": {
      "text/plain": [
       "['https://www.naukri.com/job-listings-data-scientist-oracle-india-pvt-ltd-bangalore-bengaluru-6-to-10-years-190521008276?src=jobsearchDesk&sid=16285047045722284&xp=1&px=1',\n",
       " 'https://www.naukri.com/job-listings-senior-data-scientist-philips-india-limited-bangalore-bengaluru-8-to-10-years-060821501599?src=jobsearchDesk&sid=16285047045722284&xp=2&px=1',\n",
       " 'https://www.naukri.com/job-listings-senior-data-scientist-datamatics-global-services-ltd-bangalore-bengaluru-8-to-13-years-040821003517?src=jobsearchDesk&sid=16285047045722284&xp=3&px=1',\n",
       " 'https://www.naukri.com/job-listings-data-scientist-farmwiseai-private-limited-hyderabad-secunderabad-chennai-bangalore-bengaluru-5-to-10-years-090821002358?src=jobsearchDesk&sid=16285047045722284&xp=4&px=1',\n",
       " 'https://www.naukri.com/job-listings-senior-data-scientist-bangalore-reputed-mnc-evolve-technologies-and-services-private-limited-bangalore-bengaluru-5-to-10-years-090821002421?src=jobsearchDesk&sid=16285047045722284&xp=5&px=1',\n",
       " 'https://www.naukri.com/job-listings-data-scientist-advanced-analytics-ibm-india-pvt-limited-bangalore-bengaluru-5-to-10-years-060821907733?src=jobsearchDesk&sid=16285047045722284&xp=6&px=1',\n",
       " 'https://www.naukri.com/job-listings-senior-data-scientist-symbiosis-international-w-l-l-bangalore-bengaluru-10-to-15-years-050821004331?src=jobsearchDesk&sid=16285047045722284&xp=7&px=1',\n",
       " 'https://www.naukri.com/job-listings-senior-data-scientist-ibm-india-pvt-limited-bangalore-bengaluru-5-to-10-years-260721907182?src=jobsearchDesk&sid=16285047045722284&xp=8&px=1',\n",
       " 'https://www.naukri.com/job-listings-senior-data-scientist-publicis-groupe-bangalore-bengaluru-2-to-5-years-030821501259?src=jobsearchDesk&sid=16285047045722284&xp=9&px=1',\n",
       " 'https://www.naukri.com/job-listings-senior-data-scientist-bidgely-technologies-private-limited-bangalore-bengaluru-4-to-6-years-030821500043?src=jobsearchDesk&sid=16285047045722284&xp=10&px=1',\n",
       " 'https://www.naukri.com/job-listings-senior-data-scientist-goals-101-data-solutions-pvt-ltd-new-delhi-bangalore-bengaluru-delhi-ncr-4-to-8-years-030821000870?src=jobsearchDesk&sid=16285047045722284&xp=11&px=1',\n",
       " 'https://www.naukri.com/job-listings-data-scientist-mcafee-software-india-pvt-ltd-bangalore-bengaluru-4-to-8-years-050821501145?src=jobsearchDesk&sid=16285047045722284&xp=12&px=1',\n",
       " 'https://www.naukri.com/job-listings-data-scientist-permanent-role-onward-technologies-limited-hyderabad-secunderabad-chennai-bangalore-bengaluru-6-to-11-years-030821002780?src=jobsearchDesk&sid=16285047045722284&xp=13&px=1',\n",
       " 'https://www.naukri.com/job-listings-senior-data-scientist-randstad-india-pvt-ltd-bangalore-bengaluru-4-to-9-years-280721000424?src=jobsearchDesk&sid=16285047045722284&xp=14&px=1',\n",
       " 'https://www.naukri.com/job-listings-sr-data-scientist-tech-lead-data-science-confidential-bangalore-bengaluru-6-to-9-years-020821903704?src=jobsearchDesk&sid=16285047045722284&xp=15&px=1',\n",
       " 'https://www.naukri.com/job-listings-lead-data-scientist-tensorflow-machine-learning-getinz-techno-services-mumbai-hyderabad-secunderabad-chennai-bangalore-bengaluru-7-to-10-years-250721900474?src=jobsearchDesk&sid=16285047045722284&xp=16&px=1',\n",
       " 'https://www.naukri.com/job-listings-data-engineers-data-scientist-and-sap-teamware-solutions-bangalore-bengaluru-7-to-10-years-300721500677?src=jobsearchDesk&sid=16285047045722284&xp=17&px=1',\n",
       " 'https://www.naukri.com/job-listings-senior-software-engineer-data-scientist-ara-resources-bangalore-bengaluru-6-to-10-years-290721906399?src=jobsearchDesk&sid=16285047045722284&xp=18&px=1',\n",
       " 'https://www.naukri.com/job-listings-python-data-scientist-mindtree-limited-bangalore-bengaluru-3-to-5-years-040821500207?src=jobsearchDesk&sid=16285047045722284&xp=19&px=1',\n",
       " 'https://www.naukri.com/job-listings-western-digital-data-scientist-3-western-digital-bangalore-bengaluru-4-to-5-years-030821500726?src=jobsearchDesk&sid=16285047045722284&xp=20&px=1']"
      ]
     },
     "execution_count": 58,
     "metadata": {},
     "output_type": "execute_result"
    }
   ],
   "source": [
    "job_opening_url=[]\n",
    "for i in url:\n",
    "    job_opening_url.append(i.get_attribute('href'))\n",
    "job_opening_url    "
   ]
  },
  {
   "cell_type": "code",
   "execution_count": 62,
   "id": "a453db71",
   "metadata": {},
   "outputs": [
    {
     "data": {
      "text/plain": [
       "['--']"
      ]
     },
     "execution_count": 62,
     "metadata": {},
     "output_type": "execute_result"
    }
   ],
   "source": [
    "jobs_titles=[]\n",
    "for i in job_opening_url:\n",
    "    driver.get(i)\n",
    "try:    \n",
    "    jobs_title=driver.find_elements_by_xpath(\"//h1[@class='av-special-heading-tag']\")\n",
    "    jobs_titles.append(job_title.text)\n",
    "except:\n",
    "    job_titles.append(\"--\")\n",
    "job_titles    "
   ]
  },
  {
   "cell_type": "code",
   "execution_count": null,
   "id": "976cfa60",
   "metadata": {},
   "outputs": [],
   "source": []
  }
 ],
 "metadata": {
  "kernelspec": {
   "display_name": "Python 3",
   "language": "python",
   "name": "python3"
  },
  "language_info": {
   "codemirror_mode": {
    "name": "ipython",
    "version": 3
   },
   "file_extension": ".py",
   "mimetype": "text/x-python",
   "name": "python",
   "nbconvert_exporter": "python",
   "pygments_lexer": "ipython3",
   "version": "3.8.8"
  }
 },
 "nbformat": 4,
 "nbformat_minor": 5
}
